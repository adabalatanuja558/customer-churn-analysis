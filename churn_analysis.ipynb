# 📉 Customer Churn Analysis

## Step 1: Import Libraries
import pandas as pd
import matplotlib.pyplot as plt
import seaborn as sns

## Step 2: Load Data
df = pd.read_csv('../data/sample_customer_data.csv')
df.head()

## Step 3: Data Summary
df.info()
df.describe()

## Step 4: Data Cleaning
df['TotalCharges'] = pd.to_numeric(df['TotalCharges'], errors='coerce')
df.dropna(inplace=True)

## Step 5: Churn Distribution
sns.countplot(data=df, x='Churn')
plt.title('Churn Distribution')
plt.show()

## Step 6: Churn by Contract Type
contract_churn = df.groupby(['Contract', 'Churn']).size().unstack()
contract_churn.plot(kind='bar', stacked=True)
plt.title('Churn by Contract Type')
plt.ylabel('Number of Customers')
plt.show()

## ✅ Summary
# - Month-to-month customers churn more.
# - Next step: build churn prediction model.
